{
 "cells": [
  {
   "cell_type": "code",
   "execution_count": 1,
   "metadata": {
    "collapsed": true
   },
   "outputs": [],
   "source": [
    "import numpy as np\n",
    "import pandas as pd\n",
    "import matplotlib.pyplot as plt\n",
    "from sklearn.feature_extraction.text import CountVectorizer\n",
    "from sklearn.feature_extraction.text import TfidfTransformer\n",
    "from sklearn.decomposition import TruncatedSVD"
   ]
  },
  {
   "cell_type": "markdown",
   "metadata": {},
   "source": [
    "# Loading Vocabullary\n",
    "\n",
    "A function that reads vocabulary created by cleaning the datasets"
   ]
  },
  {
   "cell_type": "code",
   "execution_count": 2,
   "metadata": {
    "collapsed": true
   },
   "outputs": [],
   "source": [
    "def loadVocab(fileName):\n",
    "\n",
    "# load file into list    \n",
    "    with open(fileName) as f:\n",
    "        content = f.readlines()\n",
    "        content = [x.strip() for x in content] \n",
    "        return content"
   ]
  },
  {
   "cell_type": "markdown",
   "metadata": {},
   "source": [
    "# Count Vector\n",
    "\n",
    "This is a matrix that contains for each tweet the count of words in the vocabulary set that occured"
   ]
  },
  {
   "cell_type": "code",
   "execution_count": 3,
   "metadata": {
    "collapsed": true
   },
   "outputs": [],
   "source": [
    "def createCountVector(fileName1,fileName2):\n",
    "\n",
    "    vocab_pos = loadVocab(fileName1)\n",
    "    vocab_neg = loadVocab(fileName2)\n",
    "    # find the combination of both vocabularies and remove common words\n",
    "    combined_vocab = np.unique(vocab_pos + vocab_neg)\n",
    "    # load the tweets \n",
    "    raw_text1 = pd.read_table('../data/train_pos.txt',header = None,names=['tweets'])\n",
    "    raw_text2 = pd.read_table('../data/train_neg.txt',header = None,names=['tweets'])\n",
    "    positiveTweets = raw_text1['tweets'].apply(str)\n",
    "    negativeTweets = raw_text2['tweets'].apply(str)\n",
    "    dataset = pd.concat([positiveTweets,negativeTweets])\n",
    "\n",
    "    # labels/output map : positive-> 0 and negative -> 1\n",
    "    labels = np.zeros((positiveTweets.shape[0] + negativeTweets.shape[0],),dtype=int)\n",
    "    labels[negativeTweets.shape[0]:] = 1\n",
    "    \n",
    "    #occurence matrix representation\n",
    "    cv = CountVectorizer(vocabulary=combined_vocab)\n",
    "    occurence = cv.fit_transform(dataset)\n",
    "    #frequency of word matrix representation\n",
    "    tf_transformer = TfidfTransformer(use_idf=False).fit(occurence)\n",
    "    frequency = tf_transformer.transform(occurence)\n",
    "        \n",
    "    return count,labels"
   ]
  },
  {
   "cell_type": "markdown",
   "metadata": {},
   "source": [
    "# VISUALIZATION\n",
    "\n",
    "Visualizing the data using PCA"
   ]
  },
  {
   "cell_type": "code",
   "execution_count": 6,
   "metadata": {
    "collapsed": true
   },
   "outputs": [],
   "source": [
    "def visualization(X,labels):\n",
    "\n",
    "    pca = TruncatedSVD(n_components=2)\n",
    "    projected = pca.fit_transform(X)\n",
    "    plt.scatter(projected[:, 0], projected[:, 1],\n",
    "            c=labels, edgecolor='none', alpha=0.5,\n",
    "            cmap=plt.cm.get_cmap('spectral', 10))\n",
    "    plt.xlabel('component 1')\n",
    "    plt.ylabel('component 2')\n",
    "    plt.colorbar()\n",
    "    plt.show()"
   ]
  },
  {
   "cell_type": "code",
   "execution_count": 7,
   "metadata": {},
   "outputs": [
    {
     "name": "stderr",
     "output_type": "stream",
     "text": [
      "/home/omar/anaconda3/lib/python3.6/site-packages/matplotlib/cbook.py:136: MatplotlibDeprecationWarning: The spectral and spectral_r colormap was deprecated in version 2.0. Use nipy_spectral and nipy_spectral_r instead.\n",
      "  warnings.warn(message, mplDeprecation, stacklevel=1)\n"
     ]
    },
    {
     "data": {
      "image/png": "[encoded data removed]",
      "text/plain": [
       "<matplotlib.figure.Figure at 0x7fe9a53d40f0>"
      ]
     },
     "metadata": {},
     "output_type": "display_data"
    }
   ],
   "source": [
    "count,labels = createCountVector(\"../vocabulary/train_pos_vocab.txt\",\"../vocabulary/train_neg_vocab.txt\")\n",
    "visualization(count,labels)"
   ]
  }
 ],
 "metadata": {
  "kernelspec": {
   "display_name": "Python 3",
   "language": "python",
   "name": "python3"
  },
  "language_info": {
   "codemirror_mode": {
    "name": "ipython",
    "version": 3
   },
   "file_extension": ".py",
   "mimetype": "text/x-python",
   "name": "python",
   "nbconvert_exporter": "python",
   "pygments_lexer": "ipython3",
   "version": "3.6.1"
  }
 },
 "nbformat": 4,
 "nbformat_minor": 2
}
