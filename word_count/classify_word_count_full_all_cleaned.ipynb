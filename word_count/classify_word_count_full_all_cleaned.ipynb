{
 "cells": [
  {
   "cell_type": "code",
   "execution_count": 3,
   "metadata": {},
   "outputs": [],
   "source": [
    "from scipy.sparse import *\n",
    "import numpy as np\n",
    "import pickle\n",
    "import random\n",
    "from sklearn.decomposition import PCA\n",
    "%matplotlib inline\n",
    "from matplotlib import pyplot as plt\n",
    "from tqdm import tqdm\n",
    "from sklearn import svm\n",
    "from sklearn.linear_model import LogisticRegression\n",
    "from sklearn.metrics import roc_curve, auc\n",
    "from operator import itemgetter\n",
    "from scipy.sparse import csc_matrix as smatrix\n",
    "import scipy\n",
    "from scipy.sparse import *\n",
    "from keras.models import Sequential\n",
    "from keras.layers import Dense\n",
    "from sklearn.neural_network import MLPClassifier\n",
    "import pandas as pd"
   ]
  },
  {
   "cell_type": "code",
   "execution_count": 14,
   "metadata": {},
   "outputs": [],
   "source": [
    "def get_words(filename):\n",
    "    data = open(filename, 'rb')\n",
    "    res = []\n",
    "    for line in tqdm(data):\n",
    "        line = line.strip().decode(\"utf-8\").split(' ')\n",
    "        res += line\n",
    "    return list(set(res))"
   ]
  },
  {
   "cell_type": "code",
   "execution_count": 15,
   "metadata": {},
   "outputs": [],
   "source": [
    "def get_vocab(words_pos, words_neg):\n",
    "    all_words = list(set(words_pos + words_neg))\n",
    "    return {x: i for i, x in tqdm(enumerate(all_words))}"
   ]
  },
  {
   "cell_type": "code",
   "execution_count": 16,
   "metadata": {},
   "outputs": [],
   "source": [
    "# file -> [[word_number_1_1, ..., word_number_1_K1], ..., [word_number_L_1, ..., word_number_L_KL]]\n",
    "def file_to_word2numbers(filename, vocab):\n",
    "    data = open(filename, 'rb')\n",
    "    word2numbers_all = []\n",
    "    for line in tqdm(data):\n",
    "        line = line.strip().decode(\"utf-8\").split(' ')\n",
    "        word2numbers = []\n",
    "        for word in line:\n",
    "            if word in vocab: word2numbers.append(vocab[word])\n",
    "        if word2numbers:\n",
    "            word2numbers_all.append(word2numbers)\n",
    "    return word2numbers_all"
   ]
  },
  {
   "cell_type": "code",
   "execution_count": 17,
   "metadata": {},
   "outputs": [],
   "source": [
    "# number of word occurences as embeddings (basic embeddings)\n",
    "def numbers_to_dataset(numbers, vocab):\n",
    "    arr = {}\n",
    "    for i, tweet in tqdm(enumerate(numbers)):\n",
    "        for number in tweet:\n",
    "            p = (i, number)\n",
    "            if p in arr: arr[p] += 1\n",
    "            else: arr[p] = 1\n",
    "                    \n",
    "    keys = list(arr.keys())\n",
    "    values = [arr[k] for k in keys]\n",
    "    return coo_matrix((values, ([x for x, y in keys], [y for x, y in keys])), shape=(len(numbers), len(vocab)))"
   ]
  },
  {
   "cell_type": "code",
   "execution_count": 18,
   "metadata": {},
   "outputs": [],
   "source": [
    "# constructing X, y pair\n",
    "def two_datasets_to_one(pos_data, neg_data):\n",
    "    assert pos_data.shape[1] == neg_data.shape[1]\n",
    "    X = scipy.sparse.vstack((pos_data, neg_data))\n",
    "    y = np.array([1] * pos_data.shape[0] + [0] * neg_data.shape[0])\n",
    "    assert len(y) == X.shape[0]\n",
    "    assert X.shape[0] == pos_data.shape[0] + neg_data.shape[0]\n",
    "    assert X.shape[1] == pos_data.shape[1]\n",
    "    return X, y"
   ]
  },
  {
   "cell_type": "code",
   "execution_count": 19,
   "metadata": {},
   "outputs": [],
   "source": [
    "def get_dataset(tweets_pos, tweets_neg):\n",
    "    words_pos = get_words(tweets_pos)\n",
    "    words_neg = get_words(tweets_neg)\n",
    "    \n",
    "    vocab = get_vocab(words_pos, words_neg)\n",
    "    \n",
    "    # construct num -> word dict\n",
    "    reverse_dictionary = dict(zip(vocab.values(), vocab.keys()))\n",
    "    \n",
    "    # loading data -> numbers of words\n",
    "    pos_numbers = file_to_word2numbers(tweets_pos, vocab)\n",
    "    neg_numbers = file_to_word2numbers(tweets_neg, vocab)\n",
    "    \n",
    "    # applying it to numbers\n",
    "    pos_data = numbers_to_dataset(pos_numbers, vocab)\n",
    "    neg_data = numbers_to_dataset(neg_numbers, vocab)\n",
    "    \n",
    "    # applying to datasets (pos & neg)\n",
    "    X, Y = two_datasets_to_one(pos_data, neg_data)\n",
    "    return vocab, reverse_dictionary, X, Y"
   ]
  },
  {
   "cell_type": "code",
   "execution_count": 20,
   "metadata": {},
   "outputs": [],
   "source": [
    "#vocab_full, rev_full, X_full, Y_full = get_dataset('../data/train_pos_full.txt', '../data/train_neg_full.txt')"
   ]
  },
  {
   "cell_type": "code",
   "execution_count": 21,
   "metadata": {},
   "outputs": [
    {
     "name": "stderr",
     "output_type": "stream",
     "text": [
      "100000it [00:00, 508576.17it/s]\n",
      "100000it [00:00, 470947.86it/s]\n",
      "114428it [00:00, 1182563.64it/s]\n",
      "100000it [00:00, 107682.99it/s]\n",
      "100000it [00:01, 91602.93it/s]\n",
      "100000it [00:00, 111977.28it/s]\n",
      "100000it [00:01, 95400.63it/s]\n"
     ]
    }
   ],
   "source": [
    "vocab_part, rev_part, X_part, Y_part = get_dataset('../data/train_pos.txt', '../data/train_neg.txt')"
   ]
  },
  {
   "cell_type": "code",
   "execution_count": 22,
   "metadata": {},
   "outputs": [],
   "source": [
    "vocab, reverse_dictionary, X, Y = vocab_part, rev_part, X_part, Y_part\n",
    "#vocab, reverse_dictionary, X, Y = vocab_full, rev_full, X_full, Y_full"
   ]
  },
  {
   "cell_type": "code",
   "execution_count": 23,
   "metadata": {},
   "outputs": [],
   "source": [
    "from sklearn.model_selection import train_test_split\n",
    "x, x_val, y, y_val = train_test_split(X, Y, test_size=0.01, random_state=42)"
   ]
  },
  {
   "cell_type": "code",
   "execution_count": 24,
   "metadata": {},
   "outputs": [],
   "source": [
    "def batch_generator(X, y, batch_size):\n",
    "    number_of_batches = steps_per_epoch\n",
    "    counter = 0\n",
    "    shuffle_index = np.arange(np.shape(y)[0])\n",
    "    np.random.shuffle(shuffle_index)\n",
    "    X =  X[shuffle_index, :]\n",
    "    y =  y[shuffle_index]\n",
    "    while 1:\n",
    "        index_batch = shuffle_index[batch_size*counter:batch_size*(counter+1)]\n",
    "        X_batch = X[index_batch,:].todense()\n",
    "        y_batch = y[index_batch]\n",
    "        counter += 1\n",
    "        yield(np.array(X_batch),y_batch)\n",
    "        if (counter >= number_of_batches):\n",
    "            np.random.shuffle(shuffle_index)\n",
    "            counter = 0\n"
   ]
  },
  {
   "cell_type": "code",
   "execution_count": 28,
   "metadata": {},
   "outputs": [
    {
     "data": {
      "text/plain": [
       "array([[<matplotlib.axes._subplots.AxesSubplot object at 0x7f7f12ecf748>]], dtype=object)"
      ]
     },
     "execution_count": 28,
     "metadata": {},
     "output_type": "execute_result"
    },
    {
     "data": {
      "image/png": "[encoded data removed]",
      "text/plain": [
       "<matplotlib.figure.Figure at 0x7f7f62ccab70>"
      ]
     },
     "metadata": {},
     "output_type": "display_data"
    }
   ],
   "source": [
    "lengths = [len(x) for x in vocabulary.keys()]\n",
    "pd.DataFrame(lengths).hist()"
   ]
  },
  {
   "cell_type": "code",
   "execution_count": null,
   "metadata": {},
   "outputs": [],
   "source": [
    "# training LR on dataset\n",
    "\n",
    "# use only part of training dataset\n",
    "#idx = np.random.choice(range(X_train.shape[0]), 100000)\n",
    "idx = list(range(x.shape[0]))\n",
    "clf = LogisticRegression(verbose=True, n_jobs = 8, solver = 'newton-cg', tol = 1e-2, C = 1e5, max_iter = 100000)\n",
    "#clf = MLPClassifier(verbose=True, solver='lbfgs', alpha=1e-6, hidden_layer_sizes=(100, 50), random_state=1)\n",
    "clf.fit(x[idx,:], y[idx])"
   ]
  },
  {
   "cell_type": "code",
   "execution_count": 35,
   "metadata": {},
   "outputs": [
    {
     "data": {
      "text/plain": [
       "MLPClassifier(activation='relu', alpha=1e-06, batch_size='auto', beta_1=0.9,\n",
       "       beta_2=0.999, early_stopping=False, epsilon=1e-08,\n",
       "       hidden_layer_sizes=(100, 50), learning_rate='constant',\n",
       "       learning_rate_init=0.001, max_iter=200, momentum=0.9,\n",
       "       nesterovs_momentum=True, power_t=0.5, random_state=1, shuffle=True,\n",
       "       solver='lbfgs', tol=0.0001, validation_fraction=0.1, verbose=True,\n",
       "       warm_start=False)"
      ]
     },
     "execution_count": 35,
     "metadata": {},
     "output_type": "execute_result"
    }
   ],
   "source": [
    "# training MLP on dataset\n",
    "\n",
    "# use only part of training dataset\n",
    "#idx = np.random.choice(range(X_train.shape[0]), 100000)\n",
    "idx = list(range(x.shape[0]))\n",
    "#clf = LogisticRegression(verbose=True, n_jobs = 8, solver = 'newton-cg', tol = 1e-4, C = 1e5, max_iter = 100000)\n",
    "clf_mlp = MLPClassifier(verbose=True, solver='lbfgs', alpha=1e-6, hidden_layer_sizes=(100, 50), random_state=1)\n",
    "clf_mlp.fit(x[idx,:], y[idx])"
   ]
  },
  {
   "cell_type": "code",
   "execution_count": 36,
   "metadata": {},
   "outputs": [],
   "source": [
    "clf=clf_mlp"
   ]
  },
  {
   "cell_type": "code",
   "execution_count": 37,
   "metadata": {},
   "outputs": [],
   "source": [
    "# logistic regression with L1 and L2 regularization\n",
    "from keras.regularizers import l2\n",
    "\n",
    "reg = l2(0.01)\n",
    "\n",
    "model = Sequential()\n",
    "model.add(Dense(1, activation='sigmoid', kernel_regularizer=reg, input_dim=x.shape[1]))\n",
    "model.compile(optimizer='rmsprop', loss='binary_crossentropy')\n",
    "#model.fit(x, y, nb_epoch=10, validation_data=(x_val, y_val))\n",
    "batch_size = 1000\n",
    "nb_epoch = 10\n",
    "steps_per_epoch = x.shape[0] / batch_size\n",
    "generator=batch_generator(x, y, batch_size)\n",
    "#model.fit_generator(generator=generator,epochs=nb_epoch, \n",
    "#                    steps_per_epoch=steps_per_epoch)"
   ]
  },
  {
   "cell_type": "code",
   "execution_count": 38,
   "metadata": {},
   "outputs": [
    {
     "name": "stdout",
     "output_type": "stream",
     "text": [
      "0.96998989899\n",
      "0.8215\n"
     ]
    }
   ],
   "source": [
    "# print resulting loss\n",
    "print(clf.score(x, y))\n",
    "print(clf.score(x_val, y_val))"
   ]
  },
  {
   "cell_type": "code",
   "execution_count": 39,
   "metadata": {},
   "outputs": [
    {
     "data": {
      "image/png": "[encoded data removed]",
      "text/plain": [
       "<matplotlib.figure.Figure at 0x7f7f12ec98d0>"
      ]
     },
     "metadata": {},
     "output_type": "display_data"
    }
   ],
   "source": [
    "fpr, tpr, _ = roc_curve(y, clf.predict_proba(x)[:, 1])\n",
    "roc_auc = auc(fpr, tpr)\n",
    "\n",
    "plt.figure()\n",
    "lw = 2\n",
    "plt.plot(fpr, tpr, color='darkorange', lw=lw, label='ROC curve (area = %0.2f)' % roc_auc)\n",
    "plt.plot([0, 1], [0, 1], color='navy', lw=lw, linestyle='--')\n",
    "plt.xlim([0.0, 1.0])\n",
    "plt.ylim([0.0, 1.05])\n",
    "plt.xlabel('False Positive Rate')\n",
    "plt.ylabel('True Positive Rate')\n",
    "plt.title('Receiver operating characteristic example')\n",
    "plt.legend(loc=\"lower right\")\n",
    "plt.show()"
   ]
  },
  {
   "cell_type": "code",
   "execution_count": 43,
   "metadata": {},
   "outputs": [],
   "source": [
    "# open train and predict\n",
    "def test_to_dataset(filename):\n",
    "    data = open(filename, 'rb')\n",
    "    idxes = []\n",
    "    tweets_embeddings = []\n",
    "    \n",
    "    for line in tqdm(data):\n",
    "        idx, line = line.strip().decode(\"utf-8\").split(',', 1)\n",
    "        idxes.append(idx)\n",
    "        line = line.split(' ')\n",
    "        tweet = []\n",
    "        \n",
    "        tweet_embeddings = np.zeros((len(vocab), ), dtype=np.float32)\n",
    "        \n",
    "        for word in line:\n",
    "            if word in vocab:\n",
    "                tweet_embeddings[vocab[word]] += 1\n",
    "                \n",
    "        tweets_embeddings.append(tweet_embeddings)\n",
    "        \n",
    "    #return tweets_embeddings\n",
    "    tweets_embeddings = np.array(tweets_embeddings)\n",
    "    assert len(idxes) == tweets_embeddings.shape[0]\n",
    "    assert tweets_embeddings.shape[1] == len(vocab)\n",
    "    return idxes, tweets_embeddings"
   ]
  },
  {
   "cell_type": "code",
   "execution_count": null,
   "metadata": {},
   "outputs": [
    {
     "name": "stderr",
     "output_type": "stream",
     "text": [
      "10000it [00:01, 5377.98it/s]\n"
     ]
    }
   ],
   "source": [
    "idx_test, X_test = test_to_dataset('../data/test_data.txt')"
   ]
  },
  {
   "cell_type": "code",
   "execution_count": null,
   "metadata": {},
   "outputs": [],
   "source": [
    "y_predicted = np.array(2 * (clf.predict(X_test) - 0.5), dtype=np.int64)"
   ]
  },
  {
   "cell_type": "code",
   "execution_count": null,
   "metadata": {},
   "outputs": [],
   "source": [
    "answers = sorted(zip(idx_test, y_predicted), key = lambda x: int(x[0]))"
   ]
  },
  {
   "cell_type": "code",
   "execution_count": null,
   "metadata": {},
   "outputs": [],
   "source": [
    "f = open('submission_count_cleaned.txt', 'w')\n",
    "f.write(\"Id,Prediction\\n\")\n",
    "for idx, ans in answers:\n",
    "    f.write(\"%s,%s\\n\" % (idx, ans))\n",
    "f.close()"
   ]
  },
  {
   "cell_type": "code",
   "execution_count": null,
   "metadata": {},
   "outputs": [],
   "source": []
  }
 ],
 "metadata": {
  "kernelspec": {
   "display_name": "Python 3",
   "language": "python",
   "name": "python3"
  },
  "language_info": {
   "codemirror_mode": {
    "name": "ipython",
    "version": 3
   },
   "file_extension": ".py",
   "mimetype": "text/x-python",
   "name": "python",
   "nbconvert_exporter": "python",
   "pygments_lexer": "ipython3",
   "version": "3.5.3"
  }
 },
 "nbformat": 4,
 "nbformat_minor": 2
}
