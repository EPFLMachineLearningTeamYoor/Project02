{
 "cells": [
  {
   "cell_type": "code",
   "execution_count": 20,
   "metadata": {
    "collapsed": true
   },
   "outputs": [],
   "source": [
    "import re\n",
    "import random\n",
    "import enchant\n",
    "import numpy as np\n",
    "import matplotlib.pyplot as plt\n",
    "from nltk.tokenize import TweetTokenizer\n",
    "from nltk.metrics import edit_distance\n",
    "from nltk.corpus import wordnet\n",
    "from sklearn.feature_extraction.text import CountVectorizer\n",
    "from sklearn.model_selection import KFold\n",
    "from sklearn.linear_model import LogisticRegression\n",
    "from sklearn.metrics import accuracy_score"
   ]
  },
  {
   "cell_type": "markdown",
   "metadata": {},
   "source": [
    "# LOADING DATASETS"
   ]
  },
  {
   "cell_type": "code",
   "execution_count": 21,
   "metadata": {
    "collapsed": true
   },
   "outputs": [],
   "source": [
    "# a method that takes raw text and generates raw text out of it/ op parameter is used to either \n",
    "#to keep redundant elements or remove them\n",
    "def tokenize_tweets(raw_tweets,op):\n",
    "\n",
    "    tknzr = TweetTokenizer(strip_handles=True, reduce_len=True)\n",
    "    tokens = tknzr.tokenize(raw_tweets)\n",
    "    words = [w.lower() for w in tokens]\n",
    "    if op == \"vocab\":\n",
    "        vocab = set(words)\n",
    "    elif op == \"raw\":\n",
    "        vocab = words\n",
    "    return vocab"
   ]
  },
  {
   "cell_type": "code",
   "execution_count": 22,
   "metadata": {
    "collapsed": true
   },
   "outputs": [],
   "source": [
    "# a method that reads a file and removes all non-ascii characters from it \n",
    "# returns raw_text,list [tweets]\n",
    "def loadFile(filename):\n",
    "       \n",
    "    f = open(filename)\n",
    "    raw_tweets = f.read()\n",
    "    remove_nonunicode = re.sub(r'[^\\x00-\\x7F]',' ', raw_tweets)\n",
    "    content = remove_nonunicode.splitlines()\n",
    "    return remove_nonunicode,content"
   ]
  },
  {
   "cell_type": "code",
   "execution_count": 23,
   "metadata": {
    "collapsed": true
   },
   "outputs": [],
   "source": [
    "# method that returns 2 numpy arrays one having the tweets and another having labels (0 for positve/1 for negative)\n",
    "# also returns a comined set of tokenized vocabullary and a combined raw text \n",
    "# having both raw tweets appended together\n",
    "def loadData(pos_file,neg_file,op):\n",
    "    \n",
    "    #dataframe\n",
    "    positive_raw,positive_tweets = loadFile(pos_file)\n",
    "    negative_raw,negative_tweets = loadFile(neg_file)\n",
    "    positive_labels = np.zeros((len(positive_tweets),),dtype=int)\n",
    "    negative_labels = np.ones((len(negative_tweets),),dtype=int)\n",
    "    combined_tweets = positive_tweets + negative_tweets\n",
    "    combined_labels = np.append(positive_labels,negative_labels)\n",
    "    # vocabullary \n",
    "    positive_vocab =  tokenize_tweets(positive_raw,op)\n",
    "    negative_vocab =  tokenize_tweets(negative_raw,op)\n",
    "    if op == \"raw\":\n",
    "        combined_vocab =  positive_vocab + negative_vocab\n",
    "    elif op == \"vocab\":\n",
    "        combined_vocab =  list(positive_vocab.union(negative_vocab))\n",
    "    # raw text\n",
    "    combined_text = positive_raw + negative_raw\n",
    "    return combined_tweets,combined_labels,combined_vocab,combined_text"
   ]
  },
  {
   "cell_type": "code",
   "execution_count": 26,
   "metadata": {},
   "outputs": [],
   "source": [
    "positive_tweets_file = '../data/train_pos.txt'\n",
    "negative_tweets_file = '../data/train_neg.txt'\n",
    "combined_tweets,combined_labels,combined_vocab,combined_text = loadData(positive_tweets_file,negative_tweets_file,\"vocab\")\n",
    "_,_,raw_vocab,_ = loadData(positive_tweets_file,negative_tweets_file,\"raw\")"
   ]
  },
  {
   "cell_type": "markdown",
   "metadata": {},
   "source": [
    "# STEMMING WORDS\n",
    "\n",
    "Word stemming is the process to find the stem of a word. To be more concrete as an example consider the following words eating,eats both are variations of the word eat. In our approach we know that tweets may include many repeated characters within one word, where people stress on their emotions. Thus we convert these words to words having only 2 repetions of these characters and we check if the reduced version is valid (found in dictionary)"
   ]
  },
  {
   "cell_type": "code",
   "execution_count": 27,
   "metadata": {
    "collapsed": true
   },
   "outputs": [],
   "source": [
    "# a method that finds a group of repeated letters and replaces them by 2 instances of that letter\n",
    "def repl(matchObj):\t\n",
    "    char = matchObj.group(1)\n",
    "    return \"%s%s\" % (char, char)"
   ]
  },
  {
   "cell_type": "code",
   "execution_count": 28,
   "metadata": {
    "collapsed": true
   },
   "outputs": [],
   "source": [
    "# checks if the word has repeated characters if true then we invoke the previous method\n",
    "def replaceRepeatingCharacters(tweets):\n",
    "    pattern = re.compile(r\"(\\w)\\1+\")\n",
    "    corrected_words = pattern.sub(repl,tweets)\n",
    "    return corrected_words"
   ]
  },
  {
   "cell_type": "code",
   "execution_count": 29,
   "metadata": {
    "collapsed": true
   },
   "outputs": [],
   "source": [
    "# check if current token is already correct(found in dictionary) \n",
    "#if not then call above function\n",
    "# if word has changed => there os a sequence of repeating characters and hence we reccur\n",
    "# otherwise the word is returned\n",
    "def certifyToken(token):\n",
    "\n",
    "    if wordnet.synsets(token): #if dictionary knows the token we return it\n",
    "        return token\n",
    "    reduced_token = replaceRepeatingCharacters(token) # remove repeating characters if any\n",
    "    if reduced_token != token: # if the reduced word is different we may remove further\n",
    "        return certifyToken(reduced_token)\n",
    "    else:\n",
    "        return reduced_token"
   ]
  },
  {
   "cell_type": "markdown",
   "metadata": {},
   "source": [
    "# CORRECTING MISSPELLED WORDS\n",
    "\n",
    "In this block, we focus on correcting misspelled words in tweets. This is achieved by using an english dictionary provided by enchant library, which checks if a word is correct or wrong.If wrong it provides us with suggestions for relevant replacement. We then compute the levensteihn distance between our token and the provided suggestion.\n",
    "The first method constructs a python dictionary mapping every levensteihn distance to a count denoting number of suggestions that lie that far from the word. \n",
    "The second method replaces all wrong words by their respective suggestions based on a threshold we set."
   ]
  },
  {
   "cell_type": "code",
   "execution_count": 30,
   "metadata": {
    "collapsed": true
   },
   "outputs": [],
   "source": [
    "# a method that returns the distribution of levensteihn distance between words and their corresponding suggestions\n",
    "# distance 0 corresponds to a correct word\n",
    "# distance -1 corresponds to a non alphabetic string\n",
    "def findDistances(word_dict,tokens):\n",
    "\n",
    "    distribution = dict({0:0,-1:0})\n",
    "    for token in tokens:\n",
    "        distance = 0\n",
    "        if token.isalpha():\n",
    "            if word_dict.check(token):\n",
    "                distribution[0] = distribution[0] + 1\n",
    "            else:\n",
    "                suggestions = word_dict.suggest(token)\n",
    "                if(len(suggestions)>0):\n",
    "                    distance = edit_distance(token, suggestions[0])\n",
    "                    if distance in distribution.keys():\n",
    "                        distribution[distance] = distribution[distance] + 1\n",
    "                    else:\n",
    "                        distribution[distance] =  1\n",
    "                        \n",
    "                else:\n",
    "                    distribution[-1] = distribution[-1] + 1\n",
    "            \n",
    "        else:\n",
    "            distribution[-1] = distribution[-1] + 1\n",
    "       \n",
    "        \n",
    "    return distribution "
   ]
  },
  {
   "cell_type": "code",
   "execution_count": 31,
   "metadata": {
    "collapsed": true
   },
   "outputs": [],
   "source": [
    "# a method that checks wether the token is known by the dictionary provided by enchant library\n",
    "# if yes returns it otherwise the dictionary provides a sey of suggestions \n",
    "# we compute levensthein distance to with the first suggestion if the distance is less than a certain threshold\n",
    "# then we return the suggestion otherwise we keep the token as is\n",
    "def correct_misspelled_word(word_dict,token,levenshtein_thresh):\n",
    "    \n",
    "    if word_dict.check(token):\n",
    "        return token\n",
    "    else:\n",
    "        suggestions = word_dict.suggest(token)\n",
    "        if(len(suggestions)>0):\n",
    "            filtered_suggestions = list(filter(lambda x: x.isalpha(),suggestions))\n",
    "            if (len(filtered_suggestions)>0):\n",
    "                levenshtein_dist = edit_distance(token, filtered_suggestions[0])\n",
    "                if levenshtein_dist<= levenshtein_thresh :\n",
    "                         return filtered_suggestions[0]\n",
    "                else:\n",
    "                    return token\n",
    "            else:\n",
    "                levenshtein_dist = edit_distance(token, suggestions[0])\n",
    "                if levenshtein_dist<= levenshtein_thresh :\n",
    "                         return suggestions[0]\n",
    "                else:\n",
    "                    return token\n",
    "                \n",
    "        else:\n",
    "            return token "
   ]
  },
  {
   "cell_type": "markdown",
   "metadata": {},
   "source": [
    "# CORRECTING AND STEMMING ALL TEXT"
   ]
  },
  {
   "cell_type": "code",
   "execution_count": 32,
   "metadata": {
    "collapsed": true
   },
   "outputs": [],
   "source": [
    "# this method is used to construct our vocabullary that we use to build our occurrence matrix\n",
    "# it finds the stem of every token\n",
    "def stemm_all_tokens(tokens):\n",
    "    token_stemming = lambda token : certifyToken(token)\n",
    "    correct_tweets = list(map(token_stemming,tokens))\n",
    "    return correct_tweets"
   ]
  },
  {
   "cell_type": "code",
   "execution_count": 33,
   "metadata": {
    "collapsed": true
   },
   "outputs": [],
   "source": [
    "# this method is used to construct our vocabullary that we use to build our occurrence matrix\n",
    "# it corrects every misspelled words\n",
    "def correct_all_tokens(word_dict,tokens,levenshtein_thresh):\n",
    "    token_stemming = lambda token : correct_misspelled_word(word_dict,token,levenshtein_thresh)\n",
    "    correct_tweets = list(map(token_stemming,tokens))\n",
    "    return correct_tweets"
   ]
  },
  {
   "cell_type": "code",
   "execution_count": 34,
   "metadata": {
    "collapsed": true
   },
   "outputs": [],
   "source": [
    "# this method uses a map to either stem or correct every token in a tweet\n",
    "def correct_tweet(text,op,levenshtein_thresh):\n",
    "    \n",
    "    tokens = list(tokenize_tweets(text,\"raw\"))\n",
    "    word_dict = enchant.Dict(\"en_US\")\n",
    "    if op == \"spelling\":\n",
    "        correct_tokens = lambda token : correct_misspelled_word(word_dict,token,levenshtein_thresh)  if token.isalpha() else token\n",
    "    elif op ==\"stemming\":\n",
    "        correct_tokens = lambda token : certifyToken(token)  if token.isalpha() else token\n",
    "    corrected_tokens = list(map(correct_tokens,tokens))\n",
    "    corrected_tweet = ' '.join(corrected_tokens)\n",
    "    return corrected_tweet  "
   ]
  },
  {
   "cell_type": "code",
   "execution_count": 35,
   "metadata": {
    "collapsed": true
   },
   "outputs": [],
   "source": [
    "# this method takes a list of tweets and either corrects or stems the tweets by using a map function\n",
    "def correct_all_tweets(tweets,op,levenshtein_thresh = 0):\n",
    "\n",
    "    tweet_correction = lambda x : correct_tweet(x,op,levenshtein_thresh)\n",
    "    correct_tweets = list(map(tweet_correction,tweets))\n",
    "    return correct_tweets"
   ]
  },
  {
   "cell_type": "markdown",
   "metadata": {},
   "source": [
    "# LOGISTIC REGRESSION\n",
    "\n",
    "To compare our different methods of data cleaning we use the simplest model for classification which is the logistic one. "
   ]
  },
  {
   "cell_type": "code",
   "execution_count": 46,
   "metadata": {
    "collapsed": true
   },
   "outputs": [],
   "source": [
    "# the method first constructs an occurrence matrix from a given set of vocabullary and tweets.\n",
    "# then we use a 4 kfold splits to train our model and then check accuracy in prediction\n",
    "def train_by_logistic(tweets,labels,vocab):\n",
    "    \n",
    "   \n",
    "    cv = CountVectorizer(vocabulary=vocab)\n",
    "    occurence = cv.fit_transform(tweets)\n",
    "    kf = KFold(n_splits=4)\n",
    "    scores = []\n",
    "    kfold_index = 1\n",
    "    for train_index, test_index in kf.split(occurence):\n",
    "        X_train, X_test = occurence[train_index], occurence[test_index]\n",
    "        y_train, y_test = labels[train_index], labels[test_index]\n",
    "        logistic = LogisticRegression(C=1e5)\n",
    "        model = logistic.fit(X_train,y_train)\n",
    "        Y_pred = model.predict(X_test)\n",
    "        accuracy = accuracy_score( y_test,Y_pred)\n",
    "        scores.append((kfold_index,accuracy))\n",
    "        kfold_index = kfold_index + 1\n",
    "        \n",
    "    return scores"
   ]
  },
  {
   "cell_type": "markdown",
   "metadata": {},
   "source": [
    "# VISUALIZATION\n",
    "\n",
    "We generate a couple of plots. The first is used to plot the levensteihn distance of suggested word replacements vs their frequency. The second method plots the accuracy of every kfold split of logistic regression"
   ]
  },
  {
   "cell_type": "code",
   "execution_count": 37,
   "metadata": {
    "collapsed": true
   },
   "outputs": [],
   "source": [
    "def plotDistribution(distribution,title,pngName):\n",
    "    \n",
    "    \n",
    "    param = list(map(lambda x: x[0],distribution))\n",
    "    frequency = list(map(lambda x: x[1],distribution))\n",
    "    x_pos = np.arange(len(param)) \n",
    "\n",
    "    plt.figure(figsize=(20, 3))   \n",
    "    plt.bar(x_pos,frequency,align='center')\n",
    "    plt.xticks(x_pos,param) \n",
    "    plt.ylabel('Frequency')\n",
    "    plt.title(title)\n",
    "    plt.savefig(pngName)\n",
    "    plt.show()"
   ]
  },
  {
   "cell_type": "code",
   "execution_count": 44,
   "metadata": {
    "collapsed": true
   },
   "outputs": [],
   "source": [
    "def plotAccuracy(x,y1,y2,xtitle,ytitle,graphTitle,pngName):\n",
    "    \n",
    "   \n",
    "    plt.figure(figsize=(20, 3))\n",
    "    plt.plot(x,y1,'r-',label='Correction without stemming')\n",
    "    plt.plot(x,y2,'b-',label='Correction with stemming')\n",
    "    plt.xlabel(xtitle)\n",
    "    plt.ylabel(ytitle)\n",
    "    plt.title(graphTitle)\n",
    "    plt.legend()\n",
    "    plt.savefig(pngName)\n",
    "    plt.show()"
   ]
  },
  {
   "cell_type": "markdown",
   "metadata": {},
   "source": [
    "# STATISTICS"
   ]
  },
  {
   "cell_type": "code",
   "execution_count": 39,
   "metadata": {
    "collapsed": true
   },
   "outputs": [],
   "source": [
    "def compute_levensteihn_distribution(vocab,title,pngName):\n",
    "    \n",
    "    word_dict = enchant.Dict(\"en_US\")\n",
    "    # find distributions\n",
    "    distribution_raw =  findDistances(word_dict,vocab)\n",
    "    \n",
    "    raw =  sorted(list(distribution_raw.items()))\n",
    "\n",
    "    plotDistribution(raw,title,pngName)"
   ]
  },
  {
   "cell_type": "code",
   "execution_count": 40,
   "metadata": {},
   "outputs": [
    {
     "data": {
      "image/png": "[encoded data removed]",
      "text/plain": [
       "<matplotlib.figure.Figure at 0x7f982f1bf9b0>"
      ]
     },
     "metadata": {},
     "output_type": "display_data"
    }
   ],
   "source": [
    "title = 'Levensteihn distance of suggested corrections on raw text'\n",
    "compute_levensteihn_distribution(raw_vocab,title,'../plots/distributionA.png')"
   ]
  },
  {
   "cell_type": "markdown",
   "metadata": {},
   "source": [
    "# OPTIMAL PERFORMANCE"
   ]
  },
  {
   "cell_type": "code",
   "execution_count": 41,
   "metadata": {
    "collapsed": true
   },
   "outputs": [],
   "source": [
    "def shuffle_data(x, y):\n",
    "    \n",
    "    indices = np.arange(x.shape[0])\n",
    "    np.random.shuffle(indices)\n",
    "    tempX = x\n",
    "    tempY = y\n",
    "    tempX=tempX[indices]\n",
    "    tempY=tempY[indices]\n",
    "    return tempX,tempY"
   ]
  },
  {
   "cell_type": "code",
   "execution_count": 43,
   "metadata": {
    "collapsed": true
   },
   "outputs": [],
   "source": [
    "def  find_optimum(combined_tweets,combined_labels,combined_vocab,thresh,pngName):\n",
    "    \n",
    "    \n",
    "    word_dict = enchant.Dict(\"en_US\")\n",
    "    # correct tweets\n",
    "    correct_tweets = correct_all_tweets(combined_tweets,\"spelling\",thresh)\n",
    "    # correct tweet vocab\n",
    "    correct_tweet_vocab = np.unique(correct_all_tokens(word_dict,combined_vocab,thresh))\n",
    "    # stem words\n",
    "    # correct stemmed words\n",
    "    stemmed_words = stemm_all_tokens(combined_vocab)\n",
    "    correct_stemmed_tokens =  np.unique(correct_all_tokens(word_dict,stemmed_words,thresh))\n",
    "    # stemm tweets\n",
    "    # correct stemmed tweets\n",
    "    stemmed_tweets = correct_all_tweets(combined_tweets,\"stemming\",thresh)\n",
    "    correct_stemmed_tweets = correct_all_tweets(stemmed_tweets,\"spelling\",thresh)\n",
    "    \n",
    "   \n",
    "    correct_x,correct_y = shuffle_data( np.array(correct_tweets), combined_labels)\n",
    "    stemmed_x,stemmed_y = shuffle_data( np.array(correct_stemmed_tweets), combined_labels)\n",
    "\n",
    "    scores_correct = train_by_logistic(correct_x,correct_y,correct_tweet_vocab)\n",
    "    scores_stemmed = train_by_logistic(stemmed_x,stemmed_y,correct_stemmed_tokens)\n",
    "    \n",
    "    \n",
    "    \n",
    "    kfolds = list(map(lambda x: x[0],scores_correct))\n",
    "    correct_accuracy = list(map(lambda x: x[1],scores_correct))\n",
    "    stemmed_accuracy = list(map(lambda x: x[1],scores_stemmed))\n",
    "    title = 'Logistic regression accuracy on occurrency matrix before and after stemming dataset'\n",
    "    plotAccuracy(kfolds,correct_accuracy,stemmed_accuracy,'kfold','accuracy',title,pngName)\n",
    "    "
   ]
  },
  {
   "cell_type": "code",
   "execution_count": 45,
   "metadata": {},
   "outputs": [
    {
     "data": {
      "image/png": "[encoded data removed]",
      "text/plain": [
       "<matplotlib.figure.Figure at 0x7f9872ee0c50>"
      ]
     },
     "metadata": {},
     "output_type": "display_data"
    }
   ],
   "source": [
    "find_optimum(combined_tweets,combined_labels,combined_vocab,4,'../plots/raw.png')"
   ]
  },
  {
   "cell_type": "markdown",
   "metadata": {
    "collapsed": true
   },
   "source": [
    "# ELIMINATION OF REDUNDANT TWEETS"
   ]
  },
  {
   "cell_type": "code",
   "execution_count": 57,
   "metadata": {
    "collapsed": true
   },
   "outputs": [],
   "source": [
    "def eliminate_redundancy(tweets,vocab,thresh,pngName):\n",
    "    unique_tweets = np.unique(tweets)\n",
    "    find_optimum(unique_tweets,combined_labels,vocab,thresh,pngName)"
   ]
  },
  {
   "cell_type": "code",
   "execution_count": 48,
   "metadata": {},
   "outputs": [
    {
     "data": {
      "image/png": "[encoded data removed]",
      "text/plain": [
       "<matplotlib.figure.Figure at 0x7f982f1efeb8>"
      ]
     },
     "metadata": {},
     "output_type": "display_data"
    }
   ],
   "source": [
    "eliminate_redundancy(combined_tweets,combined_voca,5,'../plots/redundant.png')"
   ]
  },
  {
   "cell_type": "markdown",
   "metadata": {},
   "source": [
    "# STRIP INITIAL CHARACTERS"
   ]
  },
  {
   "cell_type": "code",
   "execution_count": 49,
   "metadata": {
    "collapsed": true
   },
   "outputs": [],
   "source": [
    "def strip_token(token):\n",
    "    \n",
    "    contains_chars = re.search('[a-zA-Z]', token)\n",
    "    if contains_chars is not None:\n",
    "        regex = re.compile('[^a-zA-Z]')\n",
    "        stripped = regex.sub('',token)\n",
    "        return stripped\n",
    "    else:\n",
    "        return token\n",
    "    "
   ]
  },
  {
   "cell_type": "code",
   "execution_count": 50,
   "metadata": {
    "collapsed": true
   },
   "outputs": [],
   "source": [
    "def correct_vocab(tokens):\n",
    "    token_stemming = lambda token : strip_token(token)\n",
    "    correct_tweets = list(map(token_stemming,tokens))\n",
    "    return correct_tweets"
   ]
  },
  {
   "cell_type": "code",
   "execution_count": 51,
   "metadata": {
    "collapsed": true
   },
   "outputs": [],
   "source": [
    "def strip_tokens(text):\n",
    "    \n",
    "    tokens = list(tokenize_tweets(text,\"raw\"))\n",
    "    correct_tokens = lambda token : strip_token(token)\n",
    "    corrected_tokens = list(map(correct_tokens,tokens))\n",
    "    corrected_tweet = ' '.join(corrected_tokens)\n",
    "    return corrected_tweet\n",
    "    "
   ]
  },
  {
   "cell_type": "code",
   "execution_count": 52,
   "metadata": {
    "collapsed": true
   },
   "outputs": [],
   "source": [
    "def strip_text(tweets):\n",
    "    \n",
    "    tweet_correction = lambda x :strip_tokens(x)\n",
    "    correct_tweets = list(map(tweet_correction,tweets))\n",
    "    return correct_tweets"
   ]
  },
  {
   "cell_type": "code",
   "execution_count": 53,
   "metadata": {},
   "outputs": [],
   "source": [
    "filtered_tweets = strip_text(combined_tweets)\n",
    "filtered_vocab = correct_vocab(combined_vocab)"
   ]
  },
  {
   "cell_type": "code",
   "execution_count": 54,
   "metadata": {},
   "outputs": [
    {
     "data": {
      "image/png": "[encoded data removed]",
      "text/plain": [
       "<matplotlib.figure.Figure at 0x7f982ef18588>"
      ]
     },
     "metadata": {},
     "output_type": "display_data"
    }
   ],
   "source": [
    "title = 'Levensteihn distance of suggested corrections on text with initial nonalphabetic character removed'\n",
    "compute_levensteihn_distribution(filtered_vocab,title,'../plots/distributionB.png')"
   ]
  },
  {
   "cell_type": "code",
   "execution_count": 58,
   "metadata": {},
   "outputs": [
    {
     "data": {
      "image/png": "[encoded data removed]",
      "text/plain": [
       "<matplotlib.figure.Figure at 0x7f982ecf3e48>"
      ]
     },
     "metadata": {},
     "output_type": "display_data"
    }
   ],
   "source": [
    " eliminate_redundancy(filtered_tweets,filtered_vocab,5,'../plots/filtered_text.png')"
   ]
  },
  {
   "cell_type": "markdown",
   "metadata": {},
   "source": [
    "# GENERATE CLEAN TWEETS"
   ]
  },
  {
   "cell_type": "code",
   "execution_count": 74,
   "metadata": {
    "collapsed": true
   },
   "outputs": [],
   "source": [
    "def generate(pos_file,neg_file):\n",
    "    \n",
    "    positive_raw,positive_tweets = loadFile(pos_file)\n",
    "    negative_raw,negative_tweets = loadFile(neg_file)\n",
    "    positive_vocab =  tokenize_tweets(positive_raw,\"vocab\")\n",
    "    negative_vocab =  tokenize_tweets(negative_raw,\"vocab\")\n",
    "    word_dict = enchant.Dict(\"en_US\")\n",
    "    \n",
    "    filtered_tweets_pos = strip_text(positive_tweets)\n",
    "    filtered_vocab_pos = correct_vocab(positive_vocab)\n",
    "    filtered_tweets_neg = strip_text(negative_tweets)\n",
    "    filtered_vocab_neg = correct_vocab(negative_vocab)\n",
    "    \n",
    "    unique_tweets_pos = np.unique(filtered_tweets_pos)\n",
    "    unique_tweets_neg = np.unique(filtered_tweets_neg)\n",
    "    \n",
    "    correct_tweets_pos = correct_all_tweets(unique_tweets_pos ,\"spelling\",5)\n",
    "    correct_tweet_vocab_pos = np.unique(correct_all_tokens(word_dict,filtered_vocab_pos,5))\n",
    "    correct_tweets_neg = correct_all_tweets(unique_tweets_neg ,\"spelling\",5)\n",
    "    correct_tweet_vocab_neg = np.unique(correct_all_tokens(word_dict,filtered_vocab_neg,5))\n",
    "   \n",
    "    writeToFile(correct_tweets_pos,'../tmp/clean_train_pos.txt')\n",
    "    writeToFile(correct_tweet_vocab_pos,'../tmp/clean_train_vocab_pos.txt')\n",
    "    writeToFile(correct_tweets_neg,'../tmp/clean_train_neg.txt')\n",
    "    writeToFile(correct_tweet_vocab_neg,'../tmp/clean_train_vocab_neg.txt')\n",
    "    "
   ]
  },
  {
   "cell_type": "code",
   "execution_count": 77,
   "metadata": {},
   "outputs": [],
   "source": [
    "def writeToFile(data,outputSet):\n",
    "    result = open(outputSet, 'w')\n",
    "    if (type(data) is np.ndarray or type(data) is list):\n",
    "        for item in data:\n",
    "            result.write(\"%s\\n\" % item)\n",
    "        result.close()"
   ]
  },
  {
   "cell_type": "code",
   "execution_count": 78,
   "metadata": {},
   "outputs": [],
   "source": [
    "generate('../data/train_pos_full.txt','../data/train_neg_full.txt')"
   ]
  },
  {
   "cell_type": "code",
   "execution_count": null,
   "metadata": {
    "collapsed": true
   },
   "outputs": [],
   "source": []
  }
 ],
 "metadata": {
  "kernelspec": {
   "display_name": "Python 3",
   "language": "python",
   "name": "python3"
  },
  "language_info": {
   "codemirror_mode": {
    "name": "ipython",
    "version": 3
   },
   "file_extension": ".py",
   "mimetype": "text/x-python",
   "name": "python",
   "nbconvert_exporter": "python",
   "pygments_lexer": "ipython3",
   "version": "3.6.1"
  }
 },
 "nbformat": 4,
 "nbformat_minor": 2
}
