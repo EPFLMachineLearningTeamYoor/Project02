{
 "cells": [
  {
   "cell_type": "code",
   "execution_count": 1,
   "metadata": {},
   "outputs": [],
   "source": [
    "import numpy as np\n",
    "import pickle"
   ]
  },
  {
   "cell_type": "code",
   "execution_count": 2,
   "metadata": {},
   "outputs": [],
   "source": [
    "def get_vocab_embeddings(path = ''):\n",
    "    # load vocabulary\n",
    "    vocab = pickle.load(open(path + 'vocab.pkl', 'rb'))\n",
    "        \n",
    "    # load embeddings\n",
    "    embeddings = np.load(path + 'embeddings.npy')\n",
    "    \n",
    "    return vocab, embeddings"
   ]
  },
  {
   "cell_type": "code",
   "execution_count": 3,
   "metadata": {},
   "outputs": [],
   "source": [
    "def get_closest(word, num_show):\n",
    "    # construct num -> word dict\n",
    "    reverse_dictionary = dict(zip(vocab.values(), vocab.keys()))\n",
    "    closest_words = np.argsort(np.linalg.norm(embeddings - embeddings[vocab[word]], axis = 1))\n",
    "    return [reverse_dictionary[idx] for idx in closest_words[1:num_show + 1]]"
   ]
  },
  {
   "cell_type": "code",
   "execution_count": 4,
   "metadata": {},
   "outputs": [
    {
     "name": "stdout",
     "output_type": "stream",
     "text": [
      "PATH: \n",
      "closest to happy: [\"i'll\", 'here', 'would', 'take', 'is', 'had', 'work', 'much', 'still', 'only']\n",
      "closest to god: ['thank', 'give', 'days', 'year', 'nice', 'wanna', 'again', 'were', 'birthday', 'should']\n",
      "closest to bad: ['us', 'sorry', 'o', 'great', 'i', 'only', 'here', 'still', 'to', '3']\n",
      "closest to sad: ['here', 'down', 'great', 'us', 'still', 'oh', 'feel', 'to', 'right', 'school']\n",
      "PATH: ../glove_full/\n",
      "closest to happy: ['ur', 'someone', 'say', 'feel', 'would', 'never', 'him', 'wish', 'off', \"i'll\"]\n",
      "closest to god: ['give', 'wish', 'even', 'our', 'may', 'omg', 'wait', 'wanna', 'over', 'why']\n",
      "closest to bad: ['week', 'why', 'omg', 'something', 'really', 'dont', 'even', 'haha', \"that's\", 'tell']\n",
      "closest to sad: ['off', 'even', 'really', 'wish', 'wanna', 'morning', 'always', 'omg', 'bad', 'then']\n"
     ]
    }
   ],
   "source": [
    "for path in ['', '../glove_full/']:\n",
    "    print(\"PATH: \" + path)\n",
    "    vocab, embeddings = get_vocab_embeddings(path)\n",
    "    for w in ['happy', 'god', 'bad', 'sad']:\n",
    "        print(\"closest to \" + w + \": \" + str(get_closest(w, 10)))"
   ]
  },
  {
   "cell_type": "code",
   "execution_count": null,
   "metadata": {},
   "outputs": [],
   "source": [
    " "
   ]
  }
 ],
 "metadata": {
  "kernelspec": {
   "display_name": "Python 3",
   "language": "python",
   "name": "python3"
  },
  "language_info": {
   "codemirror_mode": {
    "name": "ipython",
    "version": 3
   },
   "file_extension": ".py",
   "mimetype": "text/x-python",
   "name": "python",
   "nbconvert_exporter": "python",
   "pygments_lexer": "ipython3",
   "version": "3.5.3"
  }
 },
 "nbformat": 4,
 "nbformat_minor": 2
}
