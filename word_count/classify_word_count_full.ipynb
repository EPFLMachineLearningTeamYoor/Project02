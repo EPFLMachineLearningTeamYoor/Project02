{
 "cells": [
  {
   "cell_type": "code",
   "execution_count": 1,
   "metadata": {},
   "outputs": [],
   "source": [
    "from scipy.sparse import *\n",
    "import numpy as np\n",
    "import pickle\n",
    "import random\n",
    "from sklearn.decomposition import PCA\n",
    "%matplotlib inline\n",
    "from matplotlib import pyplot as plt\n",
    "from tqdm import tqdm\n",
    "from sklearn import svm\n",
    "from sklearn.linear_model import LogisticRegression\n",
    "from sklearn.metrics import roc_curve, auc\n",
    "from operator import itemgetter\n",
    "from scipy.sparse import csc_matrix as smatrix\n",
    "import scipy"
   ]
  },
  {
   "cell_type": "code",
   "execution_count": 2,
   "metadata": {},
   "outputs": [
    {
     "data": {
      "text/plain": [
       "[('31.75', 79077),\n",
       " ('whhhaaa', 79754),\n",
       " ('rf', 12420),\n",
       " ('shoofoo', 91356),\n",
       " ('kappa', 16688),\n",
       " ('joggin', 75923),\n",
       " ('pageant', 13660),\n",
       " ('tomozza', 80390),\n",
       " ('#gradbash', 64818),\n",
       " ('bluegrass', 21047)]"
      ]
     },
     "execution_count": 2,
     "metadata": {},
     "output_type": "execute_result"
    }
   ],
   "source": [
    "# load vocabulary\n",
    "with open('vocab_full.pkl', 'rb') as f:\n",
    "    vocab = pickle.load(f)\n",
    "list(vocab.items())[:10]"
   ]
  },
  {
   "cell_type": "code",
   "execution_count": 5,
   "metadata": {},
   "outputs": [],
   "source": [
    "# construct num -> word dict\n",
    "reverse_dictionary = dict(zip(vocab.values(), vocab.keys()))"
   ]
  },
  {
   "cell_type": "code",
   "execution_count": 6,
   "metadata": {},
   "outputs": [],
   "source": [
    "# file -> [[word_number_1_1, ..., word_number_1_K1], ..., [word_number_L_1, ..., word_number_L_KL]]\n",
    "def file_to_word2numbers(filename):\n",
    "    data = open(filename, 'rb')\n",
    "    word2numbers_all = []\n",
    "    for line in tqdm(data):\n",
    "        line = line.strip().decode(\"utf-8\").split(' ')\n",
    "        word2numbers = []\n",
    "        for word in line:\n",
    "            if word in vocab: word2numbers.append(vocab[word])\n",
    "        if word2numbers:\n",
    "            word2numbers_all.append(word2numbers)\n",
    "    return word2numbers_all"
   ]
  },
  {
   "cell_type": "code",
   "execution_count": 7,
   "metadata": {},
   "outputs": [
    {
     "name": "stderr",
     "output_type": "stream",
     "text": [
      "1250000it [00:12, 98709.73it/s] \n",
      "1250000it [00:14, 83793.63it/s]\n"
     ]
    }
   ],
   "source": [
    "# loading data -> numbers of words\n",
    "pos_numbers = file_to_word2numbers('../data/train_pos_full.txt')\n",
    "neg_numbers = file_to_word2numbers('../data/train_neg_full.txt')"
   ]
  },
  {
   "cell_type": "code",
   "execution_count": 10,
   "metadata": {},
   "outputs": [
    {
     "data": {
      "text/plain": [
       "101299"
      ]
     },
     "execution_count": 10,
     "metadata": {},
     "output_type": "execute_result"
    }
   ],
   "source": [
    "len(vocab)"
   ]
  },
  {
   "cell_type": "code",
   "execution_count": 14,
   "metadata": {},
   "outputs": [],
   "source": [
    "word_frequency = {}"
   ]
  },
  {
   "cell_type": "code",
   "execution_count": 15,
   "metadata": {},
   "outputs": [],
   "source": [
    "def word_frequency_update(numbers):\n",
    "    for i, tweet in tqdm(enumerate(numbers)):\n",
    "        for number in tweet:\n",
    "            if number in word_frequency: word_frequency[number] += 1\n",
    "            else: word_frequency[number] = 1"
   ]
  },
  {
   "cell_type": "code",
   "execution_count": 16,
   "metadata": {},
   "outputs": [
    {
     "name": "stderr",
     "output_type": "stream",
     "text": [
      "1249957it [00:03, 317365.61it/s]\n",
      "1249964it [00:05, 233742.01it/s]\n"
     ]
    }
   ],
   "source": [
    "word_frequency_update(pos_numbers)\n",
    "word_frequency_update(neg_numbers)"
   ]
  },
  {
   "cell_type": "code",
   "execution_count": 64,
   "metadata": {},
   "outputs": [],
   "source": [
    "words_by_frequency = [x for x, y in sorted(list(word_frequency.items()), key = lambda x : -x[1])]"
   ]
  },
  {
   "cell_type": "code",
   "execution_count": 65,
   "metadata": {},
   "outputs": [],
   "source": [
    "use_most_frequent = 1000"
   ]
  },
  {
   "cell_type": "code",
   "execution_count": 66,
   "metadata": {},
   "outputs": [],
   "source": [
    "most_frequent_words = {y: words_by_frequency.index(y) for x, y in enumerate(words_by_frequency) if y < use_most_frequent}"
   ]
  },
  {
   "cell_type": "code",
   "execution_count": 70,
   "metadata": {},
   "outputs": [],
   "source": [
    "# number of word occurences as embeddings (basic embeddings)\n",
    "def numbers_to_dataset(numbers):\n",
    "    tweets_embeddings = np.zeros((len(numbers), use_most_frequent), dtype=np.float32)\n",
    "    for i, tweet in (enumerate(numbers)):\n",
    "        for number in tweet:\n",
    "            if number in most_frequent_words:\n",
    "                tweets_embeddings[i, most_frequent_words[number]] += 1\n",
    "    return smatrix(tweets_embeddings)"
   ]
  },
  {
   "cell_type": "code",
   "execution_count": 71,
   "metadata": {},
   "outputs": [],
   "source": [
    "# applying it to numbers\n",
    "pos_data = numbers_to_dataset(pos_numbers)\n",
    "neg_data = numbers_to_dataset(neg_numbers)"
   ]
  },
  {
   "cell_type": "code",
   "execution_count": 73,
   "metadata": {},
   "outputs": [],
   "source": [
    "# constructing X, y pair\n",
    "def two_datasets_to_one(pos_data, neg_data):\n",
    "    assert pos_data.shape[1] == neg_data.shape[1]\n",
    "    X = scipy.sparse.vstack((pos_data, neg_data))\n",
    "    y = np.array([1] * pos_data.shape[0] + [0] * neg_data.shape[0])\n",
    "    assert len(y) == X.shape[0]\n",
    "    assert X.shape[0] == pos_data.shape[0] + neg_data.shape[0]\n",
    "    assert X.shape[1] == pos_data.shape[1]\n",
    "    return X, y"
   ]
  },
  {
   "cell_type": "code",
   "execution_count": 74,
   "metadata": {},
   "outputs": [],
   "source": [
    "# applying to datasets (pos & neg)\n",
    "X, y = two_datasets_to_one(pos_data, neg_data)"
   ]
  },
  {
   "cell_type": "code",
   "execution_count": 75,
   "metadata": {},
   "outputs": [
    {
     "name": "stdout",
     "output_type": "stream",
     "text": [
      "convergence after 99 epochs took 320 seconds\n"
     ]
    },
    {
     "name": "stderr",
     "output_type": "stream",
     "text": [
      "[Parallel(n_jobs=8)]: Done   1 out of   1 | elapsed:  5.3min finished\n"
     ]
    },
    {
     "data": {
      "text/plain": [
       "LogisticRegression(C=1000, class_weight=None, dual=False, fit_intercept=True,\n",
       "          intercept_scaling=1, max_iter=100000, multi_class='ovr',\n",
       "          n_jobs=8, penalty='l2', random_state=None, solver='sag',\n",
       "          tol=0.001, verbose=True, warm_start=False)"
      ]
     },
     "execution_count": 75,
     "metadata": {},
     "output_type": "execute_result"
    }
   ],
   "source": [
    "clf = LogisticRegression(verbose=True, n_jobs = 8, solver = 'sag', tol = 0.001, C = 1000, max_iter = 100000)\n",
    "clf.fit(X, y)"
   ]
  },
  {
   "cell_type": "code",
   "execution_count": 76,
   "metadata": {},
   "outputs": [
    {
     "name": "stdout",
     "output_type": "stream",
     "text": [
      "0.804763430524\n"
     ]
    },
    {
     "data": {
      "image/png": "[encoded data removed]",
      "text/plain": [
       "<matplotlib.figure.Figure at 0x7f90dcb20e80>"
      ]
     },
     "metadata": {},
     "output_type": "display_data"
    }
   ],
   "source": [
    "print(clf.score(X, y))\n",
    "\n",
    "fpr, tpr, _ = roc_curve(y, clf.predict_proba(X)[:, 1])\n",
    "roc_auc = auc(fpr, tpr)\n",
    "\n",
    "plt.figure()\n",
    "lw = 2\n",
    "plt.plot(fpr, tpr, color='darkorange', lw=lw, label='ROC curve (area = %0.2f)' % roc_auc)\n",
    "plt.plot([0, 1], [0, 1], color='navy', lw=lw, linestyle='--')\n",
    "plt.xlim([0.0, 1.0])\n",
    "plt.ylim([0.0, 1.05])\n",
    "plt.xlabel('False Positive Rate')\n",
    "plt.ylabel('True Positive Rate')\n",
    "plt.title('Receiver operating characteristic example')\n",
    "plt.legend(loc=\"lower right\")\n",
    "plt.show()"
   ]
  },
  {
   "cell_type": "code",
   "execution_count": 77,
   "metadata": {},
   "outputs": [],
   "source": [
    "# open train and predict\n",
    "def test_to_dataset(filename):\n",
    "    data = open(filename, 'rb')\n",
    "    idxes = []\n",
    "    tweets_embeddings = []\n",
    "    \n",
    "    for line in tqdm(data):\n",
    "        idx, line = line.strip().decode(\"utf-8\").split(',', 1)\n",
    "        idxes.append(idx)\n",
    "        line = line.split(' ')\n",
    "        tweet = []\n",
    "        \n",
    "        tweet_embeddings = np.zeros((use_most_frequent, ), dtype=np.float32)\n",
    "        \n",
    "        for word in line:\n",
    "            if word in vocab and vocab[word] in most_frequent_words:\n",
    "                tweet_embeddings[most_frequent_words[vocab[word]]] += 1\n",
    "                \n",
    "        tweets_embeddings.append(tweet_embeddings)\n",
    "        \n",
    "    #return tweets_embeddings\n",
    "    tweets_embeddings = np.array(tweets_embeddings)\n",
    "    assert len(idxes) == tweets_embeddings.shape[0]\n",
    "    assert tweets_embeddings.shape[1] == use_most_frequent\n",
    "    return idxes, tweets_embeddings"
   ]
  },
  {
   "cell_type": "code",
   "execution_count": 78,
   "metadata": {},
   "outputs": [
    {
     "name": "stderr",
     "output_type": "stream",
     "text": [
      "\n",
      "0it [00:00, ?it/s]\u001b[A\n",
      "2187it [00:00, 21674.99it/s]\u001b[A\n",
      "4295it [00:00, 21362.49it/s]\u001b[A\n",
      "6319it [00:00, 20983.74it/s]\u001b[A\n",
      "8233it [00:00, 20527.85it/s]\u001b[A\n",
      "10000it [00:00, 20606.28it/s]\u001b[A"
     ]
    }
   ],
   "source": [
    "idx_test, X_test = test_to_dataset('../data/test_data.txt')"
   ]
  },
  {
   "cell_type": "code",
   "execution_count": 79,
   "metadata": {},
   "outputs": [],
   "source": [
    "y_predicted = np.array(2 * (clf.predict(X_test) - 0.5), dtype=np.int64)"
   ]
  },
  {
   "cell_type": "code",
   "execution_count": 80,
   "metadata": {},
   "outputs": [],
   "source": [
    "answers = sorted(zip(idx_test, y_predicted), key = lambda x: int(x[0]))"
   ]
  },
  {
   "cell_type": "code",
   "execution_count": 81,
   "metadata": {},
   "outputs": [],
   "source": [
    "f = open('submission_count_full.txt', 'w')\n",
    "f.write(\"Id,Prediction\\n\")\n",
    "for idx, ans in answers:\n",
    "    f.write(\"%s,%s\\n\" % (idx, ans))\n",
    "f.close()"
   ]
  },
  {
   "cell_type": "code",
   "execution_count": null,
   "metadata": {},
   "outputs": [],
   "source": []
  }
 ],
 "metadata": {
  "kernelspec": {
   "display_name": "Python 3",
   "language": "python",
   "name": "python3"
  },
  "language_info": {
   "codemirror_mode": {
    "name": "ipython",
    "version": 3
   },
   "file_extension": ".py",
   "mimetype": "text/x-python",
   "name": "python",
   "nbconvert_exporter": "python",
   "pygments_lexer": "ipython3",
   "version": "3.5.3"
  }
 },
 "nbformat": 4,
 "nbformat_minor": 2
}
