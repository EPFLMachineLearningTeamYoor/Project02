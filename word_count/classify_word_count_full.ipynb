{
 "cells": [
  {
   "cell_type": "code",
   "execution_count": 1,
   "metadata": {},
   "outputs": [],
   "source": [
    "from scipy.sparse import *\n",
    "import numpy as np\n",
    "import pickle\n",
    "import random\n",
    "from sklearn.decomposition import PCA\n",
    "%matplotlib inline\n",
    "from matplotlib import pyplot as plt\n",
    "from tqdm import tqdm\n",
    "from sklearn import svm\n",
    "from sklearn.linear_model import LogisticRegression\n",
    "from sklearn.metrics import roc_curve, auc\n",
    "from operator import itemgetter\n",
    "from scipy.sparse import csc_matrix as smatrix\n",
    "import scipy"
   ]
  },
  {
   "cell_type": "code",
   "execution_count": 2,
   "metadata": {},
   "outputs": [
    {
     "data": {
      "text/plain": [
       "[('brad', 6978),\n",
       " ('shaye', 73790),\n",
       " ('felony', 44782),\n",
       " ('asta', 78492),\n",
       " (\"briana's\", 99038),\n",
       " ('9155', 71962),\n",
       " ('hooky', 69828),\n",
       " ('prp', 36365),\n",
       " ('mix', 1312),\n",
       " ('phenominiall', 55861)]"
      ]
     },
     "execution_count": 2,
     "metadata": {},
     "output_type": "execute_result"
    }
   ],
   "source": [
    "# load vocabulary\n",
    "with open('vocab_full.pkl', 'rb') as f:\n",
    "    vocab = pickle.load(f)\n",
    "list(vocab.items())[:10]"
   ]
  },
  {
   "cell_type": "code",
   "execution_count": 3,
   "metadata": {},
   "outputs": [],
   "source": [
    "# construct num -> word dict\n",
    "reverse_dictionary = dict(zip(vocab.values(), vocab.keys()))"
   ]
  },
  {
   "cell_type": "code",
   "execution_count": 4,
   "metadata": {},
   "outputs": [],
   "source": [
    "# file -> [[word_number_1_1, ..., word_number_1_K1], ..., [word_number_L_1, ..., word_number_L_KL]]\n",
    "def file_to_word2numbers(filename):\n",
    "    data = open(filename, 'rb')\n",
    "    word2numbers_all = []\n",
    "    for line in tqdm(data):\n",
    "        line = line.strip().decode(\"utf-8\").split(' ')\n",
    "        word2numbers = []\n",
    "        for word in line:\n",
    "            if word in vocab: word2numbers.append(vocab[word])\n",
    "        if word2numbers:\n",
    "            word2numbers_all.append(word2numbers)\n",
    "    return word2numbers_all"
   ]
  },
  {
   "cell_type": "code",
   "execution_count": 5,
   "metadata": {},
   "outputs": [
    {
     "name": "stderr",
     "output_type": "stream",
     "text": [
      "1250000it [00:12, 100410.97it/s]\n",
      "1250000it [00:17, 72902.70it/s]\n"
     ]
    }
   ],
   "source": [
    "# loading data -> numbers of words\n",
    "pos_numbers = file_to_word2numbers('../data/train_pos_full.txt')\n",
    "neg_numbers = file_to_word2numbers('../data/train_neg_full.txt')"
   ]
  },
  {
   "cell_type": "code",
   "execution_count": 6,
   "metadata": {},
   "outputs": [
    {
     "data": {
      "text/plain": [
       "101299"
      ]
     },
     "execution_count": 6,
     "metadata": {},
     "output_type": "execute_result"
    }
   ],
   "source": [
    "len(vocab)"
   ]
  },
  {
   "cell_type": "code",
   "execution_count": 7,
   "metadata": {},
   "outputs": [],
   "source": [
    "word_frequency = {}"
   ]
  },
  {
   "cell_type": "code",
   "execution_count": 8,
   "metadata": {},
   "outputs": [],
   "source": [
    "def word_frequency_update(numbers):\n",
    "    for i, tweet in tqdm(enumerate(numbers)):\n",
    "        for number in tweet:\n",
    "            if number in word_frequency: word_frequency[number] += 1\n",
    "            else: word_frequency[number] = 1"
   ]
  },
  {
   "cell_type": "code",
   "execution_count": 9,
   "metadata": {},
   "outputs": [
    {
     "name": "stderr",
     "output_type": "stream",
     "text": [
      "1249957it [00:04, 300761.69it/s]\n",
      "1249964it [00:06, 199259.38it/s]\n"
     ]
    }
   ],
   "source": [
    "word_frequency_update(pos_numbers)\n",
    "word_frequency_update(neg_numbers)"
   ]
  },
  {
   "cell_type": "code",
   "execution_count": 10,
   "metadata": {},
   "outputs": [],
   "source": [
    "words_by_frequency = [x for x, y in sorted(list(word_frequency.items()), key = lambda x : -x[1])]"
   ]
  },
  {
   "cell_type": "code",
   "execution_count": 11,
   "metadata": {},
   "outputs": [],
   "source": [
    "use_most_frequent = 10000"
   ]
  },
  {
   "cell_type": "code",
   "execution_count": 12,
   "metadata": {},
   "outputs": [],
   "source": [
    "most_frequent_words = {y: words_by_frequency.index(y) for x, y in enumerate(words_by_frequency) if y < use_most_frequent}"
   ]
  },
  {
   "cell_type": "code",
   "execution_count": 13,
   "metadata": {},
   "outputs": [],
   "source": [
    "# number of word occurences as embeddings (basic embeddings)\n",
    "def numbers_to_dataset(numbers, use_size = -1):\n",
    "    if use_size > 0:\n",
    "        numbers = np.random.choice(numbers, use_size)\n",
    "    tweets_embeddings = np.zeros((len(numbers), use_most_frequent), dtype=np.float32)\n",
    "    for i, tweet in tqdm(enumerate(numbers)):\n",
    "        for number in tweet:\n",
    "            if number in most_frequent_words:\n",
    "                tweets_embeddings[i, most_frequent_words[number]] += 1\n",
    "    return smatrix(tweets_embeddings)"
   ]
  },
  {
   "cell_type": "code",
   "execution_count": 14,
   "metadata": {},
   "outputs": [
    {
     "name": "stderr",
     "output_type": "stream",
     "text": [
      "500000it [00:29, 17110.90it/s]\n",
      "500000it [00:35, 14190.79it/s]\n"
     ]
    }
   ],
   "source": [
    "# applying it to numbers\n",
    "use_size = 500000\n",
    "pos_data = numbers_to_dataset(pos_numbers, use_size)\n",
    "neg_data = numbers_to_dataset(neg_numbers, use_size)"
   ]
  },
  {
   "cell_type": "code",
   "execution_count": 15,
   "metadata": {},
   "outputs": [],
   "source": [
    "# constructing X, y pair\n",
    "def two_datasets_to_one(pos_data, neg_data):\n",
    "    assert pos_data.shape[1] == neg_data.shape[1]\n",
    "    X = scipy.sparse.vstack((pos_data, neg_data))\n",
    "    y = np.array([1] * pos_data.shape[0] + [0] * neg_data.shape[0])\n",
    "    assert len(y) == X.shape[0]\n",
    "    assert X.shape[0] == pos_data.shape[0] + neg_data.shape[0]\n",
    "    assert X.shape[1] == pos_data.shape[1]\n",
    "    return X, y"
   ]
  },
  {
   "cell_type": "code",
   "execution_count": 16,
   "metadata": {},
   "outputs": [],
   "source": [
    "# applying to datasets (pos & neg)\n",
    "X, y = two_datasets_to_one(pos_data, neg_data)"
   ]
  },
  {
   "cell_type": "code",
   "execution_count": 17,
   "metadata": {},
   "outputs": [
    {
     "name": "stdout",
     "output_type": "stream",
     "text": [
      "convergence after 277 epochs took 353 seconds\n"
     ]
    },
    {
     "name": "stderr",
     "output_type": "stream",
     "text": [
      "[Parallel(n_jobs=8)]: Done   1 out of   1 | elapsed:  5.9min finished\n"
     ]
    },
    {
     "data": {
      "text/plain": [
       "LogisticRegression(C=1000, class_weight=None, dual=False, fit_intercept=True,\n",
       "          intercept_scaling=1, max_iter=100000, multi_class='ovr',\n",
       "          n_jobs=8, penalty='l2', random_state=None, solver='sag',\n",
       "          tol=0.001, verbose=True, warm_start=False)"
      ]
     },
     "execution_count": 17,
     "metadata": {},
     "output_type": "execute_result"
    }
   ],
   "source": [
    "clf = LogisticRegression(verbose=True, n_jobs = 8, solver = 'sag', tol = 0.001, C = 1000, max_iter = 100000)\n",
    "clf.fit(X, y)"
   ]
  },
  {
   "cell_type": "code",
   "execution_count": 18,
   "metadata": {},
   "outputs": [
    {
     "name": "stdout",
     "output_type": "stream",
     "text": [
      "0.834812\n"
     ]
    },
    {
     "data": {
      "image/png": "[encoded data removed]",
      "text/plain": [
       "<matplotlib.figure.Figure at 0x7fe8460f4dd8>"
      ]
     },
     "metadata": {},
     "output_type": "display_data"
    }
   ],
   "source": [
    "print(clf.score(X, y))\n",
    "\n",
    "fpr, tpr, _ = roc_curve(y, clf.predict_proba(X)[:, 1])\n",
    "roc_auc = auc(fpr, tpr)\n",
    "\n",
    "plt.figure()\n",
    "lw = 2\n",
    "plt.plot(fpr, tpr, color='darkorange', lw=lw, label='ROC curve (area = %0.2f)' % roc_auc)\n",
    "plt.plot([0, 1], [0, 1], color='navy', lw=lw, linestyle='--')\n",
    "plt.xlim([0.0, 1.0])\n",
    "plt.ylim([0.0, 1.05])\n",
    "plt.xlabel('False Positive Rate')\n",
    "plt.ylabel('True Positive Rate')\n",
    "plt.title('Receiver operating characteristic example')\n",
    "plt.legend(loc=\"lower right\")\n",
    "plt.show()"
   ]
  },
  {
   "cell_type": "code",
   "execution_count": 19,
   "metadata": {},
   "outputs": [],
   "source": [
    "# open train and predict\n",
    "def test_to_dataset(filename):\n",
    "    data = open(filename, 'rb')\n",
    "    idxes = []\n",
    "    tweets_embeddings = []\n",
    "    \n",
    "    for line in tqdm(data):\n",
    "        idx, line = line.strip().decode(\"utf-8\").split(',', 1)\n",
    "        idxes.append(idx)\n",
    "        line = line.split(' ')\n",
    "        tweet = []\n",
    "        \n",
    "        tweet_embeddings = np.zeros((use_most_frequent, ), dtype=np.float32)\n",
    "        \n",
    "        for word in line:\n",
    "            if word in vocab and vocab[word] in most_frequent_words:\n",
    "                tweet_embeddings[most_frequent_words[vocab[word]]] += 1\n",
    "                \n",
    "        tweets_embeddings.append(tweet_embeddings)\n",
    "        \n",
    "    #return tweets_embeddings\n",
    "    tweets_embeddings = np.array(tweets_embeddings)\n",
    "    assert len(idxes) == tweets_embeddings.shape[0]\n",
    "    assert tweets_embeddings.shape[1] == use_most_frequent\n",
    "    return idxes, tweets_embeddings"
   ]
  },
  {
   "cell_type": "code",
   "execution_count": 20,
   "metadata": {},
   "outputs": [
    {
     "name": "stderr",
     "output_type": "stream",
     "text": [
      "10000it [00:00, 13325.15it/s]\n"
     ]
    }
   ],
   "source": [
    "idx_test, X_test = test_to_dataset('../data/test_data.txt')"
   ]
  },
  {
   "cell_type": "code",
   "execution_count": 21,
   "metadata": {},
   "outputs": [],
   "source": [
    "y_predicted = np.array(2 * (clf.predict(X_test) - 0.5), dtype=np.int64)"
   ]
  },
  {
   "cell_type": "code",
   "execution_count": 22,
   "metadata": {},
   "outputs": [],
   "source": [
    "answers = sorted(zip(idx_test, y_predicted), key = lambda x: int(x[0]))"
   ]
  },
  {
   "cell_type": "code",
   "execution_count": 23,
   "metadata": {},
   "outputs": [],
   "source": [
    "f = open('submission_count_full.txt', 'w')\n",
    "f.write(\"Id,Prediction\\n\")\n",
    "for idx, ans in answers:\n",
    "    f.write(\"%s,%s\\n\" % (idx, ans))\n",
    "f.close()"
   ]
  },
  {
   "cell_type": "code",
   "execution_count": null,
   "metadata": {},
   "outputs": [],
   "source": []
  }
 ],
 "metadata": {
  "kernelspec": {
   "display_name": "Python 3",
   "language": "python",
   "name": "python3"
  },
  "language_info": {
   "codemirror_mode": {
    "name": "ipython",
    "version": 3
   },
   "file_extension": ".py",
   "mimetype": "text/x-python",
   "name": "python",
   "nbconvert_exporter": "python",
   "pygments_lexer": "ipython3",
   "version": "3.5.3"
  }
 },
 "nbformat": 4,
 "nbformat_minor": 2
}
