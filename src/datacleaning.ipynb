{
 "cells": [
  {
   "cell_type": "code",
   "execution_count": 1,
   "metadata": {
    "collapsed": true
   },
   "outputs": [],
   "source": [
    "import string\n",
    "import nltk\n",
    "import re\n",
    "from nltk.tokenize import TweetTokenizer"
   ]
  },
  {
   "cell_type": "markdown",
   "metadata": {},
   "source": [
    "# REGULAR EXPRESSIONS\n",
    "\n",
    "clean data using regular expressions"
   ]
  },
  {
   "cell_type": "code",
   "execution_count": 2,
   "metadata": {
    "collapsed": true
   },
   "outputs": [],
   "source": [
    "def cleanTweets(tweets):\n",
    "    \n",
    "    remove_numbers_start = r\"\\d+(\\w*)\"\n",
    "    remove_numbers_end = r\"(\\w*)\\d+\"\n",
    "    remove_hashtags = r\"#(\\w*)\"\n",
    "    remove_underscores = r'_(\\w+)'\n",
    "    remove_punctuation = r\"[.,;'?():-_!$%|{}&/]\"\n",
    "    remove_quotation = r'\"'\n",
    "    remove_math_ops = \"[-+.^:,*]\"   \n",
    "    \n",
    "    combined_pattern = r'|'.join((remove_numbers_start,remove_numbers_end,remove_punctuation,remove_hashtags,remove_underscores,remove_quotation,remove_math_ops))\n",
    "    cleaned_tweets = re.sub(combined_pattern,'',tweets)\n",
    "    \n",
    "    return  cleaned_tweets"
   ]
  },
  {
   "cell_type": "markdown",
   "metadata": {},
   "source": [
    "# TOKENIZATION\n",
    "\n",
    "Tokenize the data to obtain our cleaned vocabulary , which is used latter to construct our word representation"
   ]
  },
  {
   "cell_type": "code",
   "execution_count": 9,
   "metadata": {},
   "outputs": [],
   "source": [
    "def tokenize_tweets(raw_data):\n",
    "\n",
    "    tknzr = TweetTokenizer(strip_handles=True, reduce_len=True)\n",
    "    tokens = tknzr.tokenize(raw_data)\n",
    "    words = [w.lower() for w in tokens]\n",
    "    vocab = sorted(set(words))\n",
    "    vocab = [w for w in vocab if w.isalpha()]\n",
    "    return vocab"
   ]
  },
  {
   "cell_type": "markdown",
   "metadata": {},
   "source": [
    "# VOCABULARY\n",
    "\n",
    "Create the vocab by invoking previous methods"
   ]
  },
  {
   "cell_type": "code",
   "execution_count": 10,
   "metadata": {
    "collapsed": true
   },
   "outputs": [],
   "source": [
    "def loadData(path,inputF,outputF):\n",
    "    \n",
    "    inputSet = path + inputF\n",
    "    outputSet = path + outputF\n",
    "    file = open(inputSet)\n",
    "    raw_data = file.read()\n",
    "    raw_data = cleanTweets(raw_data)\n",
    "    vocab = tokenize_tweets(raw_data)\n",
    "    result = open(outputSet, 'w')\n",
    "    for item in vocab:\n",
    "          result.write(\"%s\\n\" % item)"
   ]
  },
  {
   "cell_type": "code",
   "execution_count": 11,
   "metadata": {},
   "outputs": [],
   "source": [
    "loadData('../','data/train_neg.txt','output.txt')"
   ]
  },
  {
   "cell_type": "code",
   "execution_count": null,
   "metadata": {
    "collapsed": true
   },
   "outputs": [],
   "source": []
  }
 ],
 "metadata": {
  "kernelspec": {
   "display_name": "Python 3",
   "language": "python",
   "name": "python3"
  },
  "language_info": {
   "codemirror_mode": {
    "name": "ipython",
    "version": 3
   },
   "file_extension": ".py",
   "mimetype": "text/x-python",
   "name": "python",
   "nbconvert_exporter": "python",
   "pygments_lexer": "ipython3",
   "version": "3.6.1"
  }
 },
 "nbformat": 4,
 "nbformat_minor": 2
}
